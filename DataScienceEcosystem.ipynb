{
 "cells": [
  {
   "cell_type": "markdown",
   "id": "233ed75e",
   "metadata": {},
   "source": [
    "# Data Science Tools and Ecosystem"
   ]
  },
  {
   "cell_type": "markdown",
   "id": "2337ad39",
   "metadata": {},
   "source": [
    "En este cuaderno, se resumen las herramienta y ecosistemas de la ciencia de datos"
   ]
  },
  {
   "cell_type": "markdown",
   "id": "e2a2011c",
   "metadata": {},
   "source": [
    "**Objetivos**\n",
    "- Listar las herramientas para la ciencia de datos\n",
    "- Revision de los lenguiajes para la ciencia de datos\n",
    "- Revision de las bibliotecas mas comunes para la ciencia de datos"
   ]
  },
  {
   "cell_type": "markdown",
   "id": "f8cb16d4",
   "metadata": {},
   "source": [
    "Lenguajes para la ciencia de datos:\n",
    "1. Python\n",
    "2. R\n",
    "3. JavaScript"
   ]
  },
  {
   "cell_type": "markdown",
   "id": "85d13300",
   "metadata": {},
   "source": [
    "Bibliotecas comunes para la ciencia de datos:\n",
    "1. Scikit-learn\n",
    "2. Caret\n",
    "3. Pandas\n",
    "4. Numpy"
   ]
  },
  {
   "cell_type": "markdown",
   "id": "0f135384",
   "metadata": {},
   "source": [
    "| Herramientas de ciencia de datos|\n",
    "| --------------------------------|\n",
    "| Knime |\n",
    "| JupyterLab |\n",
    "| Spark |"
   ]
  },
  {
   "cell_type": "markdown",
   "id": "4e217ccb",
   "metadata": {},
   "source": [
    "### Expresiones aritmeticas en python:"
   ]
  },
  {
   "cell_type": "markdown",
   "id": "c2d9ef90",
   "metadata": {},
   "source": [
    "Esta es una expresión aritmética simple para multiplicar y luego sumar enteros"
   ]
  },
  {
   "cell_type": "code",
   "execution_count": 1,
   "id": "8c0b1ebf",
   "metadata": {},
   "outputs": [
    {
     "data": {
      "text/plain": [
       "17"
      ]
     },
     "execution_count": 1,
     "metadata": {},
     "output_type": "execute_result"
    }
   ],
   "source": [
    "(3*4)+5"
   ]
  },
  {
   "cell_type": "markdown",
   "id": "a25fff8c",
   "metadata": {},
   "source": [
    "Esto convertirá 200 minutos a horas dividiendo por 60"
   ]
  },
  {
   "cell_type": "code",
   "execution_count": 2,
   "id": "645d6aae",
   "metadata": {},
   "outputs": [
    {
     "name": "stdout",
     "output_type": "stream",
     "text": [
      "200 minutos equivalen a 3.3333333333333335 horas\n"
     ]
    }
   ],
   "source": [
    "min_hor = 200/60\n",
    "print(f\"200 minutos equivalen a {min_hor} horas\")"
   ]
  },
  {
   "cell_type": "markdown",
   "id": "5b73c04c",
   "metadata": {},
   "source": [
    "## Autor\n",
    "Sebastian Herrera Ulloa"
   ]
  }
 ],
 "metadata": {
  "kernelspec": {
   "display_name": "base",
   "language": "python",
   "name": "python3"
  },
  "language_info": {
   "codemirror_mode": {
    "name": "ipython",
    "version": 3
   },
   "file_extension": ".py",
   "mimetype": "text/x-python",
   "name": "python",
   "nbconvert_exporter": "python",
   "pygments_lexer": "ipython3",
   "version": "3.10.9"
  }
 },
 "nbformat": 4,
 "nbformat_minor": 5
}
